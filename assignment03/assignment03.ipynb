{
 "cells": [
  {
   "cell_type": "markdown",
   "metadata": {},
   "source": [
    "# This script demonstrates ___K-Means Clustering___\n",
    "\n",
    "# Name : Eun-Yeong Jeon\n",
    "\n",
    "# Student ID : 20153334\n",
    "\n",
    "## github: https://github.com/Eun0/Assignment"
   ]
  },
  {
   "cell_type": "markdown",
   "metadata": {},
   "source": [
    "# Outline:\n",
    "\n",
    "### 1. Generate random data\n",
    "### 2. Create K-Means Algorithm"
   ]
  },
  {
   "cell_type": "markdown",
   "metadata": {},
   "source": [
    "# import packages for plotting graphs and manipulating data :"
   ]
  },
  {
   "cell_type": "code",
   "execution_count": 1,
   "metadata": {},
   "outputs": [],
   "source": [
    "import numpy as np\n",
    "import matplotlib.pyplot as plt\n",
    "import matplotlib.colors as colors\n",
    "import matplotlib.cm as cmx\n",
    "import random"
   ]
  },
  {
   "cell_type": "markdown",
   "metadata": {},
   "source": [
    "# Define generatePointCluster(k,n) function :\n",
    "\n",
    " Generate random data normally distributed around k centers,with a noise\n",
    "\n",
    "- input:\n",
    "\n",
    "  k: number of clusters\n",
    "\n",
    "  n: number of points which a cluster has\n",
    "\n",
    "\n",
    "- output:\n",
    "\n",
    "  'points' array"
   ]
  },
  {
   "cell_type": "code",
   "execution_count": 2,
   "metadata": {},
   "outputs": [],
   "source": [
    "def generatePointCluster(k,n):\n",
    "    \n",
    "    # 'points' is a array which has information of random data\n",
    "    # columns : x , y , label\n",
    "    # rows : data\n",
    "    \n",
    "    points=np.empty((0,2))\n",
    "    \n",
    "    for i in range(k):\n",
    "        \n",
    "        # Set center, -10 <= center < 10\n",
    "        center=20 * np.random.random_sample((1, 2)) - 10\n",
    "        \n",
    "        # Generate n random data according to center\n",
    "        rand_data=np.random.randn(n,2)+center\n",
    "        \n",
    "        # Append random data to 'points' array\n",
    "        points=np.append(points,rand_data,axis=0)\n",
    "        \n",
    "    # We will label cluster by integer form ( 0,1,...,) and -1 means 'not labeled'\n",
    "    \n",
    "    # Append label to 'points' array\n",
    "    labels=np.array([[-1] for i in range (k*n)])\n",
    "    points=np.append(points,labels,axis=1)\n",
    "    \n",
    "    return points"
   ]
  },
  {
   "cell_type": "markdown",
   "metadata": {},
   "source": [
    "# Generate Random Data "
   ]
  },
  {
   "cell_type": "code",
   "execution_count": 3,
   "metadata": {},
   "outputs": [],
   "source": [
    "# k : number of clusters\n",
    "# n : number of points which a cluster has\n",
    "k=3\n",
    "n=100\n",
    "\n",
    "# Generate 3*100 random data with 3 clusters \n",
    "points=generatePointCluster(k,n)"
   ]
  },
  {
   "cell_type": "markdown",
   "metadata": {},
   "source": [
    "# Scatter plot for the random data"
   ]
  },
  {
   "cell_type": "code",
   "execution_count": 4,
   "metadata": {},
   "outputs": [
    {
     "data": {
      "image/png": "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\n",
      "text/plain": [
       "<Figure size 432x288 with 1 Axes>"
      ]
     },
     "metadata": {
      "needs_background": "light"
     },
     "output_type": "display_data"
    }
   ],
   "source": [
    "plt.scatter(points[:,0],points[:,1],s=1.5,label='random data',color='b',marker='o')\n",
    "plt.show()"
   ]
  },
  {
   "cell_type": "markdown",
   "metadata": {},
   "source": [
    "# Define computeDistance(p1,p2) function:\n",
    "\n",
    "Compute (Euclidean) distance between two given points"
   ]
  },
  {
   "cell_type": "code",
   "execution_count": 5,
   "metadata": {},
   "outputs": [],
   "source": [
    "def computeDistance(p1,p2):\n",
    "    return np.linalg.norm(p1-p2)"
   ]
  },
  {
   "cell_type": "markdown",
   "metadata": {},
   "source": [
    "# Define initializeLabel(k) function: \n",
    "\n",
    "(Randomly) Initialize labels"
   ]
  },
  {
   "cell_type": "code",
   "execution_count": 6,
   "metadata": {},
   "outputs": [],
   "source": [
    "def initializeLabel(k):\n",
    "    \n",
    "    global points\n",
    "    \n",
    "    # K clusters and each cluster has n data\n",
    "    # So, sorted list of label is same as below  \n",
    "    labels=[[a] for a in range(k) for x in range(n)]\n",
    "    \n",
    "    # Just shuffle for initializing\n",
    "    random.shuffle(labels)\n",
    "    \n",
    "    labels=np.array(labels)\n",
    "    \n",
    "    # Set labels (=Initialze labels)\n",
    "    points_temp=np.delete(points,[2],axis=1)\n",
    "    points=np.append(points_temp,labels,axis=1)\n",
    "    \n",
    "    \n",
    "    \n",
    "initializeLabel(k)"
   ]
  },
  {
   "cell_type": "markdown",
   "metadata": {},
   "source": [
    "# Scatter plot for visualizing label according to point"
   ]
  },
  {
   "cell_type": "code",
   "execution_count": 7,
   "metadata": {},
   "outputs": [
    {
     "data": {
      "image/png": "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\n",
      "text/plain": [
       "<Figure size 432x288 with 1 Axes>"
      ]
     },
     "metadata": {
      "needs_background": "light"
     },
     "output_type": "display_data"
    }
   ],
   "source": [
    "# Plot same labeled points with same color \n",
    "for i in range(k):\n",
    "    points_sel=points[points[:,2]==i]\n",
    "    plt.scatter(points_sel[:,0],points_sel[:,1],label=i)\n",
    "plt.legend()\n",
    "plt.show()"
   ]
  },
  {
   "cell_type": "markdown",
   "metadata": {},
   "source": [
    "# Define computeCentroid(k) function:\n",
    "\n",
    "Find centroid coordinates according to each label"
   ]
  },
  {
   "cell_type": "code",
   "execution_count": 8,
   "metadata": {},
   "outputs": [],
   "source": [
    "def computeCentroid(k):\n",
    "    \n",
    "    # 'center_exp' is a array which expects centers of clusters\n",
    "    # columns : x, y\n",
    "    # rows: cluster (integer form)\n",
    "    \n",
    "    # Initialize center_exp with zeros\n",
    "    center_exp=np.zeros((k,2))\n",
    "    \n",
    "    # Find each cluster's mean of x_value and mean of y_value\n",
    "    for i in range(k):\n",
    "        points_sel=points[points[:,2]==i]\n",
    "   \n",
    "        x_sel=points_sel[:,0]\n",
    "        x_mean=np.mean(x_sel)\n",
    "    \n",
    "\n",
    "        y_sel=points_sel[:,1]\n",
    "        y_mean=np.mean(y_sel)\n",
    "           \n",
    "        center_exp[[i]]=np.array([[x_mean,y_mean]])\n",
    "        \n",
    "    \n",
    "    \n",
    "    return center_exp"
   ]
  },
  {
   "cell_type": "markdown",
   "metadata": {},
   "source": [
    "# Compute centroid"
   ]
  },
  {
   "cell_type": "code",
   "execution_count": 9,
   "metadata": {},
   "outputs": [],
   "source": [
    "center_exp=computeCentroid(k)"
   ]
  },
  {
   "cell_type": "markdown",
   "metadata": {},
   "source": [
    "# Plot inital centroid"
   ]
  },
  {
   "cell_type": "code",
   "execution_count": 10,
   "metadata": {},
   "outputs": [
    {
     "data": {
      "image/png": "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\n",
      "text/plain": [
       "<Figure size 432x288 with 1 Axes>"
      ]
     },
     "metadata": {
      "needs_background": "light"
     },
     "output_type": "display_data"
    }
   ],
   "source": [
    "for i in range(k):\n",
    "    points_sel=points[points[:,2]==i]\n",
    "    plt.scatter(points_sel[:,0],points_sel[:,1],label=i)\n",
    "for i in range(k):\n",
    "    plt.scatter(center_exp[i,0],center_exp[i,1],marker=\"*\",s=150,label=str(i)+\" center\")\n",
    "plt.legend()\n",
    "plt.show()"
   ]
  },
  {
   "cell_type": "markdown",
   "metadata": {},
   "source": [
    "# Define makeDistances() function:\n",
    "\n",
    "Make a array which consists of distance between data and center of cluster"
   ]
  },
  {
   "cell_type": "code",
   "execution_count": 11,
   "metadata": {},
   "outputs": [],
   "source": [
    "def makeDistances():\n",
    "    \n",
    "    # 'distances' array containing distance information\n",
    "    # columns: k clusters\n",
    "    # rows: n*k data\n",
    "    distances=np.zeros((n*k,k))\n",
    "    \n",
    "    for i in range(n*k):\n",
    "        \n",
    "        point=np.array([points[i,0],points[i,1]])\n",
    "    \n",
    "        for j in range(k):\n",
    "            \n",
    "            # Center of cluster labeled j\n",
    "            center=np.array([[center_exp[j,0],center_exp[j,1]]])\n",
    "            \n",
    "            # Assign distance information to 'distances' array\n",
    "            distances[i,j]=computeDistance(point,center)\n",
    "        \n",
    "    return distances"
   ]
  },
  {
   "cell_type": "markdown",
   "metadata": {},
   "source": [
    "# Define assignLabel(k) function:\n",
    "\n",
    "Assign label,whose value in 'distances' is minimun "
   ]
  },
  {
   "cell_type": "code",
   "execution_count": 12,
   "metadata": {},
   "outputs": [],
   "source": [
    "def assignLabel(k,distances):\n",
    "    \n",
    "    for i in range(k*n):\n",
    "        # Find label which has a minimum distance\n",
    "        label=np.argmin(distances[i])\n",
    "        # Assign label\n",
    "        points[i,2]=label"
   ]
  },
  {
   "cell_type": "markdown",
   "metadata": {},
   "source": [
    "# Define computeEnergy(points) function:\n",
    "\n",
    "Our Goal is minimizing Energy\n",
    "\n",
    "Energy is mean of distances between data and center of cluster which data belongs to"
   ]
  },
  {
   "cell_type": "code",
   "execution_count": 13,
   "metadata": {},
   "outputs": [],
   "source": [
    "def computeEnergy(points):\n",
    "    \n",
    "    sum=0\n",
    "    \n",
    "    for i in range(n*k):\n",
    "        \n",
    "        # Center of cluster which data belongs to\n",
    "        label=int(points[i,2])\n",
    "        center=np.array([center_exp[label,0],center_exp[label,1]])\n",
    "        \n",
    "        point=np.array([points[i,0],points[i,1]])\n",
    "        \n",
    "        distance=computeDistance(point,center)\n",
    "        \n",
    "        sum+=distance\n",
    "        \n",
    "    return sum/(n*k)"
   ]
  },
  {
   "cell_type": "markdown",
   "metadata": {},
   "source": [
    "# Create K-Means Algorithm and Compute Energy"
   ]
  },
  {
   "cell_type": "code",
   "execution_count": 14,
   "metadata": {},
   "outputs": [
    {
     "name": "stdout",
     "output_type": "stream",
     "text": [
      "Energy : 7.039746437177576\n",
      "Energy : 2.9950414848696214\n",
      "Energy : 1.658763332590129\n",
      "Energy : 1.2364162542518509\n"
     ]
    }
   ],
   "source": [
    "# Calculate initial energy\n",
    "energy = []\n",
    "erg = computeEnergy(points)\n",
    "print('Energy :', erg)\n",
    "energy.append(erg)\n",
    "\n",
    "while(1):\n",
    "    \n",
    "    distances=makeDistances()\n",
    "    \n",
    "    assignLabel(k,distances)\n",
    "\n",
    "    new_center_exp=computeCentroid(k)\n",
    "    \n",
    "    if np.array_equal(center_exp,new_center_exp):\n",
    "        break\n",
    "    \n",
    "    else:\n",
    "        np.copyto(center_exp,new_center_exp)\n",
    "        \n",
    "        # Calculate energy\n",
    "        erg = computeEnergy(points)\n",
    "        print('Energy :', erg)\n",
    "        energy.append(erg)\n",
    "\n",
    "#assignLabel(k,distances)\n",
    "    "
   ]
  },
  {
   "cell_type": "markdown",
   "metadata": {},
   "source": [
    "# Result"
   ]
  },
  {
   "cell_type": "code",
   "execution_count": 15,
   "metadata": {},
   "outputs": [
    {
     "data": {
      "image/png": "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\n",
      "text/plain": [
       "<Figure size 432x288 with 1 Axes>"
      ]
     },
     "metadata": {
      "needs_background": "light"
     },
     "output_type": "display_data"
    }
   ],
   "source": [
    "for i in range(k):\n",
    "    points_sel=points[points[:,2]==i]\n",
    "    plt.scatter(points_sel[:,0],points_sel[:,1])\n",
    "    plt.scatter(center_exp[i,0],center_exp[i,1],marker=\"*\",s=150)\n",
    "plt.show()\n",
    "\n"
   ]
  },
  {
   "cell_type": "markdown",
   "metadata": {},
   "source": [
    "# Plot the Energy"
   ]
  },
  {
   "cell_type": "code",
   "execution_count": 16,
   "metadata": {},
   "outputs": [
    {
     "data": {
      "text/plain": [
       "[<matplotlib.lines.Line2D at 0x209507a2518>]"
      ]
     },
     "execution_count": 16,
     "metadata": {},
     "output_type": "execute_result"
    },
    {
     "data": {
      "image/png": "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\n",
      "text/plain": [
       "<Figure size 432x288 with 1 Axes>"
      ]
     },
     "metadata": {
      "needs_background": "light"
     },
     "output_type": "display_data"
    }
   ],
   "source": [
    "plt.plot(energy)"
   ]
  },
  
 ],
 "metadata": {
  "kernelspec": {
   "display_name": "Python 3",
   "language": "python",
   "name": "python3"
  },
  "language_info": {
   "codemirror_mode": {
    "name": "ipython",
    "version": 3
   },
   "file_extension": ".py",
   "mimetype": "text/x-python",
   "name": "python",
   "nbconvert_exporter": "python",
   "pygments_lexer": "ipython3",
   "version": "3.6.6"
  }
 },
 "nbformat": 4,
 "nbformat_minor": 2
}
